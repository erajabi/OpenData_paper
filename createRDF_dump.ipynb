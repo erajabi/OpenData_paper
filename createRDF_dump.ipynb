{
 "cells": [
  {
   "cell_type": "code",
   "execution_count": 2,
   "metadata": {},
   "outputs": [],
   "source": [
    "from rdflib import URIRef, BNode, Literal\n",
    "\n",
    "bob = URIRef(\"http://example.org/people/Bob\")\n",
    "linda = BNode() # a GUID is generated\n",
    "\n",
    "name = Literal('Bob') # passing a string\n",
    "age = Literal(24) # passing a python int\n",
    "height = Literal(76.5) # passing a python float\n"
   ]
  },
  {
   "cell_type": "code",
   "execution_count": 3,
   "metadata": {},
   "outputs": [
    {
     "data": {
      "text/plain": [
       "rdflib.term.URIRef('http://example.org/people/eve')"
      ]
     },
     "execution_count": 3,
     "metadata": {},
     "output_type": "execute_result"
    }
   ],
   "source": [
    "from rdflib import Namespace\n",
    "\n",
    "n = Namespace(\"http://example.org/people/\")\n",
    "\n",
    "n.bob # = rdflib.term.URIRef(u'http://example.org/people/bob')\n",
    "n.eve # = rdflib.term.URIRef(u'http://example.org/people/eve')\n"
   ]
  },
  {
   "cell_type": "code",
   "execution_count": 4,
   "metadata": {},
   "outputs": [
    {
     "data": {
      "text/plain": [
       "rdflib.term.URIRef('http://xmlns.com/foaf/0.1/knows')"
      ]
     },
     "execution_count": 4,
     "metadata": {},
     "output_type": "execute_result"
    }
   ],
   "source": [
    "from rdflib.namespace import RDF, FOAF\n",
    "\n",
    "RDF.type\n",
    "# = rdflib.term.URIRef(u'http://www.w3.org/1999/02/22-rdf-syntax-ns#type')\n",
    "\n",
    "FOAF.knows\n",
    "# = rdflib.term.URIRef(u'http://xmlns.com/foaf/0.1/knows')\n"
   ]
  },
  {
   "cell_type": "code",
   "execution_count": 6,
   "metadata": {},
   "outputs": [
    {
     "name": "stdout",
     "output_type": "stream",
     "text": [
      "b'@prefix ns1: <http://xmlns.com/foaf/0.1/> .\\n@prefix rdf: <http://www.w3.org/1999/02/22-rdf-syntax-ns#> .\\n@prefix rdfs: <http://www.w3.org/2000/01/rdf-schema#> .\\n@prefix xml: <http://www.w3.org/XML/1998/namespace> .\\n@prefix xsd: <http://www.w3.org/2001/XMLSchema#> .\\n\\n<http://example.org/people/Bob> a ns1:Person ;\\n    ns1:knows [ a ns1:Person ;\\n            ns1:name \"Linda\" ] ;\\n    ns1:name \"Bob\" .\\n\\n'\n"
     ]
    }
   ],
   "source": [
    "from rdflib import Graph\n",
    "g = Graph()\n",
    "\n",
    "g.add( (bob, RDF.type, FOAF.Person) )\n",
    "g.add( (bob, FOAF.name, name) )\n",
    "g.add( (bob, FOAF.knows, linda) )\n",
    "g.add( (linda, RDF.type, FOAF.Person) )\n",
    "g.add( (linda, FOAF.name, Literal('Linda') ) )\n",
    "\n",
    "print(g.serialize(format='turtle'))\n"
   ]
  },
  {
   "cell_type": "code",
   "execution_count": 8,
   "metadata": {},
   "outputs": [
    {
     "name": "stdout",
     "output_type": "stream",
     "text": [
      "Bob is  42\n",
      "Bob is now  43\n"
     ]
    }
   ],
   "source": [
    "g.add( ( bob, FOAF.age, Literal(42) ) )\n",
    "print(\"Bob is \", g.value( bob, FOAF.age ))\n",
    "# prints: Bob is 42\n",
    "\n",
    "g.set( ( bob, FOAF.age, Literal(43) ) ) # replaces 42 set above\n",
    "print(\"Bob is now \", g.value( bob, FOAF.age ))\n",
    "# prints: Bob is now 43"
   ]
  },
  {
   "cell_type": "code",
   "execution_count": 10,
   "metadata": {},
   "outputs": [],
   "source": [
    "# from rdflib.namespace import FOAF\n",
    "# g.parse(\"http://danbri.livejournal.com/data/foaf\")\n",
    "# for s,_,n in g.triples((None, FOAF['member_name'], None)):\n",
    "#     g.add((s, FOAF['name'], n))"
   ]
  },
  {
   "cell_type": "code",
   "execution_count": 26,
   "metadata": {},
   "outputs": [],
   "source": [
    "from rdflib import Namespace\n",
    "nsod = Namespace(\"http://example.org/nsod/\")"
   ]
  },
  {
   "cell_type": "code",
   "execution_count": 31,
   "metadata": {},
   "outputs": [
    {
     "ename": "BadSyntax",
     "evalue": "at line 39 of <>:\nBad syntax (expected '.' or '}' or ']' at end of statement) at ^ in:\n\"...b'd:dateTime ;\\n\\tdct:publisher \"Open Government \\xe2\\x80\\x93 Nova Scotia'^b'\" @en ;\\n    dct:subject sdmx-subject:1.4, od:CauseOfDeath;\\n\\t'...\"",
     "output_type": "error",
     "traceback": [
      "Traceback \u001b[0;36m(most recent call last)\u001b[0m:\n",
      "  File \u001b[1;32m\"/Users/enayat/anaconda3/lib/python3.7/site-packages/IPython/core/interactiveshell.py\"\u001b[0m, line \u001b[1;32m3325\u001b[0m, in \u001b[1;35mrun_code\u001b[0m\n    exec(code_obj, self.user_global_ns, self.user_ns)\n",
      "  File \u001b[1;32m\"<ipython-input-31-a979232ffa53>\"\u001b[0m, line \u001b[1;32m4\u001b[0m, in \u001b[1;35m<module>\u001b[0m\n    g.parse(\"./cause_dataset.ttl\", format=\"ttl\")\n",
      "  File \u001b[1;32m\"/Users/enayat/anaconda3/lib/python3.7/site-packages/rdflib/graph.py\"\u001b[0m, line \u001b[1;32m1043\u001b[0m, in \u001b[1;35mparse\u001b[0m\n    parser.parse(source, self, **args)\n",
      "  File \u001b[1;32m\"/Users/enayat/anaconda3/lib/python3.7/site-packages/rdflib/plugins/parsers/notation3.py\"\u001b[0m, line \u001b[1;32m1870\u001b[0m, in \u001b[1;35mparse\u001b[0m\n    p.loadStream(source.getByteStream())\n",
      "  File \u001b[1;32m\"/Users/enayat/anaconda3/lib/python3.7/site-packages/rdflib/plugins/parsers/notation3.py\"\u001b[0m, line \u001b[1;32m434\u001b[0m, in \u001b[1;35mloadStream\u001b[0m\n    return self.loadBuf(stream.read())    # Not ideal\n",
      "  File \u001b[1;32m\"/Users/enayat/anaconda3/lib/python3.7/site-packages/rdflib/plugins/parsers/notation3.py\"\u001b[0m, line \u001b[1;32m440\u001b[0m, in \u001b[1;35mloadBuf\u001b[0m\n    self.feed(buf)\n",
      "  File \u001b[1;32m\"/Users/enayat/anaconda3/lib/python3.7/site-packages/rdflib/plugins/parsers/notation3.py\"\u001b[0m, line \u001b[1;32m466\u001b[0m, in \u001b[1;35mfeed\u001b[0m\n    i = self.directiveOrStatement(s, j)\n",
      "  File \u001b[1;32m\"/Users/enayat/anaconda3/lib/python3.7/site-packages/rdflib/plugins/parsers/notation3.py\"\u001b[0m, line \u001b[1;32m489\u001b[0m, in \u001b[1;35mdirectiveOrStatement\u001b[0m\n    return self.checkDot(argstr, j)\n",
      "  File \u001b[1;32m\"/Users/enayat/anaconda3/lib/python3.7/site-packages/rdflib/plugins/parsers/notation3.py\"\u001b[0m, line \u001b[1;32m1159\u001b[0m, in \u001b[1;35mcheckDot\u001b[0m\n    \"expected '.' or '}' or ']' at end of statement\")\n",
      "\u001b[0;36m  File \u001b[0;32m\"/Users/enayat/anaconda3/lib/python3.7/site-packages/rdflib/plugins/parsers/notation3.py\"\u001b[0;36m, line \u001b[0;32m1615\u001b[0;36m, in \u001b[0;35mBadSyntax\u001b[0;36m\u001b[0m\n\u001b[0;31m    raise BadSyntax(self._thisDoc, self.lines, argstr, i, msg)\u001b[0m\n",
      "\u001b[0;36m  File \u001b[0;32m\"<string>\"\u001b[0;36m, line \u001b[0;32munknown\u001b[0m\n\u001b[0;31mBadSyntax\u001b[0m\n"
     ]
    }
   ],
   "source": [
    "from rdflib import Graph\n",
    "\n",
    "g = Graph()\n",
    "g.parse(\"./cause_dataset.ttl\", format=\"ttl\")\n",
    "\n",
    "len(g) # prints 2\n",
    "\n",
    "# import pprint\n",
    "# for stmt in g:\n",
    "#     pprint.pprint(stmt)"
   ]
  },
  {
   "cell_type": "code",
   "execution_count": 10,
   "metadata": {},
   "outputs": [
    {
     "name": "stdout",
     "output_type": "stream",
     "text": [
      "graph has 86 statements.\n"
     ]
    }
   ],
   "source": [
    "import rdflib\n",
    "g = rdflib.Graph()\n",
    "result = g.parse(\"http://www.w3.org/People/Berners-Lee/card\")\n",
    "print(\"graph has %s statements.\" % len(g))"
   ]
  },
  {
   "cell_type": "code",
   "execution_count": 78,
   "metadata": {},
   "outputs": [],
   "source": [
    "import pandas as pd\n",
    "raw_data=pd.read_csv('Notifiable_Diseases_Counts_and_Rates_2005-2017.csv')"
   ]
  },
  {
   "cell_type": "code",
   "execution_count": 80,
   "metadata": {},
   "outputs": [
    {
     "data": {
      "text/plain": [
       "['Year', 'Disease', 'Number of Cases', 'Rate per 100,000 population']"
      ]
     },
     "execution_count": 80,
     "metadata": {},
     "output_type": "execute_result"
    }
   ],
   "source": [
    "# for index,item  in raw_data.iterrows():\n",
    "#     print(item['Year'])\n",
    "list(raw_data)"
   ]
  },
  {
   "cell_type": "code",
   "execution_count": 89,
   "metadata": {},
   "outputs": [],
   "source": [
    "from rdflib import URIRef, BNode, Literal, Namespace, RDF\n",
    "\n",
    "dataset_name='ns'\n",
    "qb=Namespace(\"http://purl.org/linked-data/cube#\")\n",
    "sdmx_dimension=Namespace(\"http://purl.org/linked-data/sdmx/2009/dimension#\")\n",
    "od=Namespace(\"http://example.org/od#\")\n",
    "od_measure=Namespace(\"http://www.example.org/opendata-measure#\")\n",
    "\n",
    "g = Graph()\n",
    "g.bind('http://purl.org/linked-data/cube#', qb)\n",
    "g.bind('http://purl.org/linked-data/sdmx/2009/dimension#', sdmx_dimension)\n",
    "g.bind('http://example.org/od#', od)\n",
    "g.bind('http://www.example.org/opendata-measure#', od_measure)\n",
    "\n",
    "# od:obs1 a qb:Observation ;\n",
    "#     od:causeOfDeath od:PregnancyChildbirthPuerperium;\n",
    "#     sdmx-dimension:refPeriod ref-year:2016;\n",
    "# \tqb:dataSet od:dataset-causeOfDeath-NS;\n",
    "            \n",
    "# for index in range(1, len(dataset)):\n",
    "for index,item  in raw_data.iterrows():\n",
    "\n",
    "    observation = URIRef(qb+'obs-'+str(index))\n",
    "    g.add( (observation, RDF.type, qb.Observation))\n",
    "    if(dataset_name=='ns'):\n",
    "        g.add( (observation, od.dataSet, od.dataset_causeOfDeath_NS))\n",
    "        g.add( (observation, sdmx_dimension.refPeriod, Literal(item['Year'])))\n",
    "        g.add( (observation, od.causeOfDeath, Literal(item['Disease'])))\n",
    "\n",
    "\n",
    "#     g.add( (observation, od.causeOfDeath, Literal(dataset[index]['cause'])))\n",
    "#     g.add( (observation, od_measure.quantity, Literal(dataset[index]['count'])))\n",
    "\n",
    "# bob = URIRef(\"http://example.org/people/Bob\")\n",
    "# linda = BNode() # a GUID is generated\n",
    "\n",
    "# name = Literal('Bob') # passing a string\n",
    "# age = Literal(24) # passing a python int\n",
    "# height = Literal(76.5) # passing a python float\n",
    "\n",
    "g.serialize('final_dataset.rdf',format='ttl')\n",
    "# qres = g.query(\n",
    "#     \"\"\"SELECT DISTINCT ?obs ?year\n",
    "#        WHERE {\n",
    "#           ?obs a  <http://purl.org/linked-data/cube#Observation>;\n",
    "#           <http://purl.org/linked-data/sdmx/2009/dimension#refPeriod> ?year.\n",
    "#        }\"\"\")\n",
    "\n",
    "# for row in qres:\n",
    "#     print(row)\n"
   ]
  },
  {
   "cell_type": "code",
   "execution_count": 59,
   "metadata": {},
   "outputs": [],
   "source": [
    "from owlready2 import *\n",
    "# onto_path.get_ontology(\"HumanDO.owl\")\n",
    "# onto = get_ontology(\"http://www.lesfleursdunormal.fr/static/_downloads/pizza_onto.owl\")\n",
    "onto = get_ontology(\"https://raw.githubusercontent.com/DiseaseOntology/HumanDiseaseOntology/master/src/ontology/doid.owl\")\n"
   ]
  },
  {
   "cell_type": "code",
   "execution_count": 49,
   "metadata": {},
   "outputs": [
    {
     "data": {
      "text/plain": [
       "get_ontology(\"http://purl.obolibrary.org/obo/doid.owl#\")"
      ]
     },
     "execution_count": 49,
     "metadata": {},
     "output_type": "execute_result"
    }
   ],
   "source": [
    "onto.load()"
   ]
  },
  {
   "cell_type": "code",
   "execution_count": 47,
   "metadata": {},
   "outputs": [
    {
     "ename": "AttributeError",
     "evalue": "'NoneType' object has no attribute 'get_class_properties'",
     "output_type": "error",
     "traceback": [
      "\u001b[0;31m---------------------------------------------------------------------------\u001b[0m",
      "\u001b[0;31mAttributeError\u001b[0m                            Traceback (most recent call last)",
      "\u001b[0;32m<ipython-input-47-a057d95753c2>\u001b[0m in \u001b[0;36m<module>\u001b[0;34m\u001b[0m\n\u001b[1;32m      1\u001b[0m \u001b[0;32mfor\u001b[0m \u001b[0mk\u001b[0m \u001b[0;32min\u001b[0m \u001b[0monto\u001b[0m\u001b[0;34m.\u001b[0m\u001b[0mclasses\u001b[0m\u001b[0;34m(\u001b[0m\u001b[0;34m)\u001b[0m\u001b[0;34m:\u001b[0m\u001b[0;34m\u001b[0m\u001b[0;34m\u001b[0m\u001b[0m\n\u001b[0;32m----> 2\u001b[0;31m     \u001b[0mprint\u001b[0m\u001b[0;34m(\u001b[0m\u001b[0monto\u001b[0m\u001b[0;34m[\u001b[0m\u001b[0mk\u001b[0m\u001b[0;34m.\u001b[0m\u001b[0mname\u001b[0m\u001b[0;34m]\u001b[0m\u001b[0;34m.\u001b[0m\u001b[0mget_class_properties\u001b[0m\u001b[0;34m(\u001b[0m\u001b[0;34m)\u001b[0m\u001b[0;34m)\u001b[0m\u001b[0;34m\u001b[0m\u001b[0;34m\u001b[0m\u001b[0m\n\u001b[0m",
      "\u001b[0;31mAttributeError\u001b[0m: 'NoneType' object has no attribute 'get_class_properties'"
     ]
    }
   ],
   "source": [
    "for k in onto.classes():\n",
    "    print(onto[k.name].get_class_properties())"
   ]
  },
  {
   "cell_type": "code",
   "execution_count": 60,
   "metadata": {},
   "outputs": [
    {
     "name": "stdout",
     "output_type": "stream",
     "text": [
      "[]\n"
     ]
    }
   ],
   "source": [
    "print(onto.search(label = \"neoplasm\"))"
   ]
  },
  {
   "cell_type": "code",
   "execution_count": 57,
   "metadata": {},
   "outputs": [
    {
     "name": "stdout",
     "output_type": "stream",
     "text": [
      "['has material basis in']\n",
      "['complicated_by']\n",
      "['composed_of']\n",
      "['derives_from']\n",
      "['has_symptom']\n",
      "['inheres_in']\n",
      "['is_a']\n",
      "['occurs_with']\n",
      "['part_of']\n",
      "['realized_by']\n",
      "['realized_by_supression_with']\n",
      "['results_in']\n",
      "['results_in_formation_of']\n",
      "[]\n",
      "[]\n",
      "[]\n",
      "[]\n",
      "[]\n",
      "['description']\n",
      "['title']\n",
      "['license']\n",
      "['date']\n",
      "['default-namespace']\n",
      "['has_obo_format_version']\n",
      "['saved-by']\n",
      "['definition']\n",
      "['definition source']\n",
      "['database_cross_reference']\n",
      "[]\n",
      "['subset_property']\n",
      "oboInOwl.SubsetProperty [doid.DO_AGR_slim, doid.DO_FlyBase_slim, doid.DO_GXD_slim, doid.DO_IEDB_slim, doid.DO_MGI_slim, doid.DO_cancer_slim, doid.DO_rare_slim, doid.GOLD, doid.NCIthesaurus, doid.TopNodes_DOcancerslim, doid.gram-negative_bacterial_infectious_disease, doid.gram-positive_bacterial_infectious_disease, doid.sexually_transmitted_infectious_disease, doid.tick-borne_infectious_disease, doid.zoonotic_infectious_disease] \n",
      "\n",
      "[]\n",
      "[]\n",
      "[]\n",
      "[]\n",
      "[]\n",
      "[]\n",
      "[]\n",
      "[]\n",
      "[]\n",
      "[]\n",
      "[]\n",
      "[]\n",
      "[]\n",
      "[]\n",
      "['dc:date']\n",
      "[]\n",
      "['auto-generated-by']\n",
      "['created_by']\n",
      "['creation_date']\n",
      "['has_alternative_id']\n",
      "['has_broad_synonym']\n",
      "['has_exact_synonym']\n",
      "['has_narrow_synonym']\n",
      "['has_obo_namespace']\n",
      "['has_related_synonym']\n",
      "['id']\n",
      "['in_subset']\n"
     ]
    }
   ],
   "source": [
    "propertiesGen = onto.properties()\n",
    "\n",
    "# getting propery and sub property relationships\n",
    "propertyToSubProperties = {}\n",
    "propertiesCount = 0\n",
    "\n",
    "for ontoProperty in propertiesGen:\n",
    "    subPropertiesList = list(ontoProperty.subclasses())\n",
    "    print(ontoProperty.label)\n",
    "    # print (list(ontoProperty.subclasses()))\n",
    "    if len(subPropertiesList) > 0:\n",
    "        propertyToSubProperties[ontoProperty] = subPropertiesList\n",
    "        print (ontoProperty, subPropertiesList, \"\\n\")\n",
    "    propertiesCount += 1\n"
   ]
  },
  {
   "cell_type": "code",
   "execution_count": 23,
   "metadata": {},
   "outputs": [
    {
     "ename": "AttributeError",
     "evalue": "'list' object has no attribute 'classes'",
     "output_type": "error",
     "traceback": [
      "\u001b[0;31m---------------------------------------------------------------------------\u001b[0m",
      "\u001b[0;31mAttributeError\u001b[0m                            Traceback (most recent call last)",
      "\u001b[0;32m<ipython-input-23-4a17f049cb76>\u001b[0m in \u001b[0;36m<module>\u001b[0;34m\u001b[0m\n\u001b[0;32m----> 1\u001b[0;31m \u001b[0mlist_of_class\u001b[0m \u001b[0;34m=\u001b[0m \u001b[0monto_path\u001b[0m\u001b[0;34m.\u001b[0m\u001b[0mclasses\u001b[0m\u001b[0;34m(\u001b[0m\u001b[0;34m)\u001b[0m\u001b[0;34m\u001b[0m\u001b[0;34m\u001b[0m\u001b[0m\n\u001b[0m",
      "\u001b[0;31mAttributeError\u001b[0m: 'list' object has no attribute 'classes'"
     ]
    }
   ],
   "source": [
    "list_of_class = onto_path.classes()"
   ]
  },
  {
   "cell_type": "code",
   "execution_count": 15,
   "metadata": {},
   "outputs": [
    {
     "ename": "NameError",
     "evalue": "name 'base_iri' is not defined",
     "output_type": "error",
     "traceback": [
      "\u001b[0;31m---------------------------------------------------------------------------\u001b[0m",
      "\u001b[0;31mNameError\u001b[0m                                 Traceback (most recent call last)",
      "\u001b[0;32m<ipython-input-15-d35aff40ef82>\u001b[0m in \u001b[0;36m<module>\u001b[0;34m\u001b[0m\n\u001b[0;32m----> 1\u001b[0;31m \u001b[0mprint\u001b[0m\u001b[0;34m(\u001b[0m\u001b[0mbase_iri\u001b[0m\u001b[0;34m)\u001b[0m\u001b[0;34m\u001b[0m\u001b[0;34m\u001b[0m\u001b[0m\n\u001b[0m",
      "\u001b[0;31mNameError\u001b[0m: name 'base_iri' is not defined"
     ]
    }
   ],
   "source": [
    "print(base_iri)"
   ]
  },
  {
   "cell_type": "code",
   "execution_count": null,
   "metadata": {},
   "outputs": [],
   "source": []
  },
  {
   "cell_type": "code",
   "execution_count": null,
   "metadata": {},
   "outputs": [],
   "source": []
  }
 ],
 "metadata": {
  "kernelspec": {
   "display_name": "Python 3",
   "language": "python",
   "name": "python3"
  },
  "language_info": {
   "codemirror_mode": {
    "name": "ipython",
    "version": 3
   },
   "file_extension": ".py",
   "mimetype": "text/x-python",
   "name": "python",
   "nbconvert_exporter": "python",
   "pygments_lexer": "ipython3",
   "version": "3.7.3"
  }
 },
 "nbformat": 4,
 "nbformat_minor": 2
}
